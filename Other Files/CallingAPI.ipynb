{
 "cells": [
  {
   "cell_type": "code",
   "execution_count": 13,
   "metadata": {
    "ExecuteTime": {
     "end_time": "2021-04-06T07:02:41.882668Z",
     "start_time": "2021-04-06T07:02:41.866671Z"
    }
   },
   "outputs": [],
   "source": [
    "import requests"
   ]
  },
  {
   "cell_type": "code",
   "execution_count": 44,
   "metadata": {
    "ExecuteTime": {
     "end_time": "2021-04-06T07:16:32.487011Z",
     "start_time": "2021-04-06T07:16:32.472011Z"
    }
   },
   "outputs": [],
   "source": [
    "file_name = \"trial\"\n",
    "filename = r\"D:\\working repos\\Seed-Classification\\trial.jpg\"\n",
    "endpoint = 'https://seedtrial.herokuapp.com/upload'"
   ]
  },
  {
   "cell_type": "code",
   "execution_count": 50,
   "metadata": {
    "ExecuteTime": {
     "end_time": "2021-04-06T07:19:25.155231Z",
     "start_time": "2021-04-06T07:19:12.031743Z"
    }
   },
   "outputs": [],
   "source": [
    "obj = requests.request('POST', endpoint, files=[('photo', ('trial.jpg', open('trial.jpg', 'rb'), 'image/jpeg'))])"
   ]
  },
  {
   "cell_type": "code",
   "execution_count": 51,
   "metadata": {
    "ExecuteTime": {
     "end_time": "2021-04-06T07:19:26.978269Z",
     "start_time": "2021-04-06T07:19:26.966231Z"
    }
   },
   "outputs": [
    {
     "data": {
      "text/plain": [
       "'Excellent:0.9999986886978149\\nGood:1.3458811736200005e-06\\nAverage:1.7305879223151327e-14\\nBad:9.783443480220126e-23\\nWorst:1.1543927790159872e-26'"
      ]
     },
     "execution_count": 51,
     "metadata": {},
     "output_type": "execute_result"
    }
   ],
   "source": [
    "obj.text"
   ]
  },
  {
   "cell_type": "code",
   "execution_count": null,
   "metadata": {},
   "outputs": [],
   "source": []
  }
 ],
 "metadata": {
  "kernelspec": {
   "display_name": "Python 3",
   "language": "python",
   "name": "python3"
  },
  "language_info": {
   "codemirror_mode": {
    "name": "ipython",
    "version": 3
   },
   "file_extension": ".py",
   "mimetype": "text/x-python",
   "name": "python",
   "nbconvert_exporter": "python",
   "pygments_lexer": "ipython3",
   "version": "3.7.8"
  }
 },
 "nbformat": 4,
 "nbformat_minor": 4
}
